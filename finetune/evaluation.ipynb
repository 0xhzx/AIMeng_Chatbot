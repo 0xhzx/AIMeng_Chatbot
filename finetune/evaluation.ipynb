{
 "cells": [
  {
   "cell_type": "code",
   "execution_count": 12,
   "metadata": {},
   "outputs": [],
   "source": [
    "import pandas as pd\n",
    "import numpy as np\n",
    "data_dir = \"./finetune_data/test_chat.pkl\"\n",
    "text_data = pd.read_pickle(data_dir)\n",
    "\n",
    "for i in range(len(text_data)):\n",
    "    if len(text_data.values[i][0])%2!=0:\n",
    "        print(\"Got you!\")"
   ]
  },
  {
   "cell_type": "code",
   "execution_count": null,
   "metadata": {},
   "outputs": [],
   "source": [
    "    def formatting_prompts_func(examples):\n",
    "        convos = examples[\"conversation\"]\n",
    "        texts = [tokenizer.apply_chat_template(convo, tokenize = False, add_generation_prompt = False) for convo in convos]\n",
    "        return { \"text\" : texts, }\n",
    "\n",
    "    tokenizer = get_chat_template(\n",
    "        tokenizer,\n",
    "        chat_template = \"chatml\",\n",
    "        map_eos_token = True, # Maps <|im_end|> to </s> instead\n",
    "    )\n"
   ]
  }
 ],
 "metadata": {
  "kernelspec": {
   "display_name": "base",
   "language": "python",
   "name": "python3"
  },
  "language_info": {
   "codemirror_mode": {
    "name": "ipython",
    "version": 3
   },
   "file_extension": ".py",
   "mimetype": "text/x-python",
   "name": "python",
   "nbconvert_exporter": "python",
   "pygments_lexer": "ipython3",
   "version": "3.11.7"
  }
 },
 "nbformat": 4,
 "nbformat_minor": 2
}
