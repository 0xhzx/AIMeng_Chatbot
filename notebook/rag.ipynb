{
 "cells": [
  {
   "cell_type": "code",
   "execution_count": 1,
   "metadata": {},
   "outputs": [],
   "source": [
    "from dotenv import load_dotenv\n",
    "\n",
    "import PyPDF2\n",
    "import sqlite3\n",
    "\n",
    "import numpy as np\n",
    "import pickle\n",
    "\n",
    "from openai import OpenAI\n",
    "import os\n",
    "\n",
    "import streamlit as st\n",
    "\n",
    "from pinecone import Pinecone, ServerlessSpec"
   ]
  },
  {
   "cell_type": "code",
   "execution_count": 6,
   "metadata": {},
   "outputs": [],
   "source": [
    "\n",
    "\n",
    "\n",
    "def extract_text_from_pdf(pdf_file):\n",
    "    '''\n",
    "    This function extracts text from a PDF file.\n",
    "    '''\n",
    "    pdf_file = open(pdf_file, 'rb')\n",
    "    pdf_reader = PyPDF2.PdfReader(pdf_file)\n",
    "    text = ''\n",
    "    for page_num in range(len(pdf_reader.pages)):\n",
    "        text += pdf_reader.pages[page_num].extract_text()\n",
    "    return text\n",
    "\n",
    "def chunking(text):\n",
    "    '''\n",
    "    This function chunks the text into smaller pieces to be used for creating embeddings.\n",
    "    Chunk size is 1000 and the overlap is 200.\n",
    "    '''\n",
    "    chunks = [text[i:i+1000] for i in range(0, len(text), 800)]\n",
    "    return chunks\n",
    "\n",
    "def make_embeddings(client, chunks):\n",
    "    '''\n",
    "    This function creates embeddings for the chunks of text using the OpenAI API.\n",
    "    '''\n",
    "    \n",
    "    def _make_embedding(client, chunk, model=\"text-embedding-3-small\"):\n",
    "        chunk = chunk.replace(\"\\n\", \" \")\n",
    "        return client.embeddings.create(input = [chunk], model=model).data[0].embedding\n",
    "    \n",
    "    embeddings = []\n",
    "    for chunk in chunks:\n",
    "        embedding = _make_embedding(client, chunk)\n",
    "        embeddings.append(embedding)\n",
    "    return embeddings\n",
    "\n",
    "def create_database():\n",
    "    pc = Pinecone(api_key=os.getenv(\"PINECONE_API_KEY\"))\n",
    "    index = pc.Index('aipi590-project2')\n",
    "    return index\n",
    "\n",
    "def insert_embeddings(index, text, embeddings):\n",
    "    pass"
   ]
  },
  {
   "cell_type": "code",
   "execution_count": 7,
   "metadata": {},
   "outputs": [],
   "source": [
    "def main():\n",
    "    load_dotenv(override=True)\n",
    "    \n",
    "    openai_key = os.getenv(\"OPENAI_KEY\")\n",
    "    \n",
    "    client = OpenAI(api_key=openai_key)\n",
    "    \n",
    "    data_path = \"../data/\"\n",
    "    meta_chunks = []; meta_embedding = []\n",
    "    meta_embeddings = {}\n",
    "    # iterate files \n",
    "    for file in os.listdir(data_path):\n",
    "        if file.endswith(\".pdf\"):\n",
    "            file = os.path.join(data_path, file)\n",
    "            \n",
    "            text = extract_text_from_pdf(file)\n",
    "            chunks = chunking(text)\n",
    "            embeddings = make_embeddings(client, chunks)\n",
    "            \n",
    "            meta_chunks = meta_chunks + chunks\n",
    "            meta_embedding = meta_embedding + embeddings\n",
    "    \n",
    "    print(len(meta_chunks), len(meta_embedding))\n",
    "    \n",
    "    for idx in range(len(meta_chunks)):\n",
    "        meta_embeddings[idx] = {\"text\": meta_chunks[idx], \"embedding\": meta_embedding[idx]}\n",
    "    \n",
    "    return meta_embeddings\n",
    "    \n",
    "    pass\n"
   ]
  },
  {
   "cell_type": "code",
   "execution_count": 8,
   "metadata": {},
   "outputs": [],
   "source": [
    "pc = Pinecone(api_key=os.getenv(\"PINECONE_API_KEY\"))\n",
    "index = pc.Index('aipi590-project2')\n",
    "\n",
    "load_dotenv(override=True)\n",
    "\n",
    "openai_key = os.getenv(\"OPENAI_KEY\")\n",
    "\n",
    "client = OpenAI(api_key=openai_key)"
   ]
  },
  {
   "cell_type": "code",
   "execution_count": 22,
   "metadata": {},
   "outputs": [],
   "source": [
    "query = \"what course should i choose in the first semester of the AI meng program at Duke?\"\n",
    "    \n",
    "query_embedding = make_embeddings(client, [query])[0]\n",
    "\n",
    "test = index.query(\n",
    "    vector=query_embedding,\n",
    "    top_k=5,\n",
    "    include_values=True,\n",
    "    include_metadata=True\n",
    ")"
   ]
  },
  {
   "cell_type": "code",
   "execution_count": 26,
   "metadata": {},
   "outputs": [
    {
     "data": {
      "text/plain": [
       "\"ess and will be able to converse in some depth in each of the areas studied upon completion. Other topics will include Supply Chain Management, Stage-Gate Development Cycles, Balances Scorecards, Blue Ocean Strategy, and Disruptive Technologies. ELECTIVE OPTIONS (SELECT THREE) Note: In addition to the courses listed below, students in this master's degree program may take other graduate-level elective courses within Duke's Pratt School of Engineering, on a space-available basis with instructor permission. At least one elective must be taken through the AI MEng program. AIPI Departmental Electives  AIPI 530: Optimization in Practice Optimization is the ultimate skill in artificial intelligence and prescriptive analytics allowing practitioners to generate the best actionable solutions for business needs. This class will give students required skills to mathematically formulate relevant business problems as optimization models, use leading software modeling syntax and solvers to generate \""
      ]
     },
     "execution_count": 26,
     "metadata": {},
     "output_type": "execute_result"
    }
   ],
   "source": [
    "test['matches'][0]['metadata']['text']"
   ]
  },
  {
   "cell_type": "code",
   "execution_count": 30,
   "metadata": {},
   "outputs": [],
   "source": [
    "from bs4 import BeautifulSoup\n",
    "\n",
    "# import xmltodict\n",
    "import requests\n",
    "\n",
    "def extract_text_from(url):\n",
    "    html = requests.get(url).text\n",
    "    soup = BeautifulSoup(html, features=\"html.parser\")\n",
    "    text = soup.get_text()\n",
    "\n",
    "    lines = (line.strip() for line in text.splitlines())\n",
    "    return '\\n'.join(line for line in lines if line)\n"
   ]
  },
  {
   "cell_type": "code",
   "execution_count": 32,
   "metadata": {},
   "outputs": [
    {
     "data": {
      "text/plain": [
       "'Duke AI Master of Engineering\\nJump to navigation\\nDuke Engineering\\nPratt School of Engineering\\nInstitute for Enterprise Engineering\\nIndustry Relations\\nLeadership\\nNews\\nContact\\nWhy Duke?The Duke DifferenceCareer ServicesGraduate OutcomesWhat Tech Leaders Are SayingDegreeCertificateCoursesFacultyApply\\nBecome a leader in applying AI & machine learning\\nArtificial intelligence is creating immense opportunities across every industry. Duke’s unique, immersive Master of Engineering in Artificial Intelligence for Product Innovation program will prepare you with strong technical AI skills complemented by a product design perspective and hands-on practical experience building AI software applications that solve real-world problems.\\nDuke AI Master of Engineering\\nStudy AI and Machine Learning at Duke\\nMaster\\'s Degree\\n30-credit degree program\\nComplete in as little as 12 months\\nOnline or on-campus\\nGain expertise in machine learning and AI\\nBuild a project portfolio\\nDegree Details\\nCertificate\\n4-course online graduate program\\nComplete part-time in just 15 months\\n100% online\\nIdeal for working professionals\\nGain new skills in AI and machine learning\\nCertificate details\\nIs Duke AI Right for You?\\nConsider applying if you are an:\\nEngineering, science or computer science graduate\\nOf any accredited institution, who wants to develop innovative products and systems using machine learning and AI\\nAmbitious working professional\\nLooking for an online degree that will provide valuable new skills and advance your career\\nUndergraduate at Duke\\nInterested in AI / Machine Learning and the benefits of the 4+1: Bachelor’s + Master’s program\\nMore about The Duke Difference »\\nNews\\nApr 02, 2024\\nDr. Brinnae Bent Joins Duke AI Master of Engineering Faculty\\nFeb 09, 2024 | Duke Today\\nThe AI Explosion, Explained\\nDec 19, 2023 | Duke Engineering\\nInaugural Generative AI Hackathon Launches Imaginations\\nView all news\\n\\u200bJoin our mailing list!Sign up to receive more information about Duke Engineering graduate programs and recruitment events »\\n2-3 semesters\\nfull-time study or 24 months part-time online\\n8 technical courses\\nprovide in-demand knowledge and skills\\n2 business courses\\ndevelop leadership and management skills\\n1 capstone project\\nprovides real-world experience and builds your portfolio\\n© Copyright 2011-2024 Duke University\\nMain Menu\\nWhy Duke?The Duke DifferenceCareer ServicesGraduate OutcomesWhat Tech Leaders Are SayingDegreeCertificateCoursesFacultyApply\\nQuick Links\\nIndustry RelationsLeadershipNewsContact\\n(function(w,d,s,l,i){w[l]=w[l]||[];w[l].push({\\'gtm.start\\':new Date().getTime(),event:\\'gtm.js\\'});var f=d.getElementsByTagName(s)[0];var j=d.createElement(s);var dl=l!=\\'dataLayer\\'?\\'&l=\\'+l:\\'\\';j.src=\\'https://www.googletagmanager.com/gtm.js?id=\\'+i+dl+\\'\\';j.async=true;f.parentNode.insertBefore(j,f);})(window,document,\\'script\\',\\'dataLayer\\',\\'GTM-TWNWC6N\\');\\n(function(w,d,s,l,i){w[l]=w[l]||[];w[l].push({\\'gtm.start\\':new Date().getTime(),event:\\'gtm.js\\'});var f=d.getElementsByTagName(s)[0];var j=d.createElement(s);var dl=l!=\\'dataLayer\\'?\\'&l=\\'+l:\\'\\';j.src=\\'https://www.googletagmanager.com/gtm.js?id=\\'+i+dl+\\'\\';j.async=true;f.parentNode.insertBefore(j,f);})(window,document,\\'script\\',\\'dataLayer\\',\\'GTM-M6RM82J8\\');\\nfunction advagg_mod_2() {\\n// Count how many times this function is called.\\nadvagg_mod_2.count = ++advagg_mod_2.count || 1;\\ntry {\\nif (advagg_mod_2.count <= 40) {\\njQuery.migrateMute=true;jQuery.migrateTrace=false;\\n// Set this to 100 so that this function only runs once.\\nadvagg_mod_2.count = 100;\\n}\\n}\\ncatch(e) {\\nif (advagg_mod_2.count >= 40) {\\n// Throw the exception if this still fails after running 40 times.\\nthrow e;\\n}\\nelse {\\n// Try again in 250 ms.\\nwindow.setTimeout(advagg_mod_2, 250);\\n}\\n}\\n}\\nfunction advagg_mod_2_check() {\\nif (window.jQuery && window.Drupal && window.Drupal.settings) {\\nadvagg_mod_2();\\n}\\nelse {\\nwindow.setTimeout(advagg_mod_2_check, 250);\\n}\\n}\\nadvagg_mod_2_check();\\nfunction init_drupal_core_settings() {jQuery.extend(Drupal.settings, {\"basePath\":\"\\\\/\",\"pathPrefix\":\"\",\"setHasJsCookie\":0,\"ajaxPageState\":{\"theme\":\"ene_programs\",\"theme_token\":\"wKtrdRi-FpbGbHFZw4ygfam1L9RcCUH1Rae5-7b8FEs\"},\"jcaption\":{\"jcaption_selectors\":[\".content .content img\",\"img.caption\",\"img.standalone-image\",\"img.image-left\",\"img.image-right\"],\"jcaption_alt_title\":\"title\",\"jcaption_requireText\":1,\"jcaption_copyStyle\":1,\"jcaption_removeStyle\":1,\"jcaption_removeClass\":1,\"jcaption_removeAlign\":1,\"jcaption_copyAlignmentToClass\":0,\"jcaption_copyFloatToClass\":1,\"jcaption_copyClassToClass\":1,\"jcaption_autoWidth\":1,\"jcaption_keepLink\":0,\"jcaption_styleMarkup\":\"\",\"jcaption_animate\":0,\"jcaption_showDuration\":\"200\",\"jcaption_hideDuration\":\"200\"},\"mmenu\":{\"mmenu_left\":{\"enabled\":\"1\",\"title\":\"Left menu\",\"name\":\"mmenu_left\",\"blocks\":[{\"module_delta\":\"system|main-menu\",\"menu_parameters\":{\"min_depth\":\"1\"},\"title\":\"Main Menu\",\"collapsed\":\"0\",\"wrap\":\"0\",\"module\":\"system\",\"delta\":\"main-menu\"},{\"module_delta\":\"menu|menu-menu-secondary-menu\",\"menu_parameters\":{\"min_depth\":\"1\"},\"title\":\"Quick Links\",\"collapsed\":\"0\",\"wrap\":\"0\",\"module\":\"menu\",\"delta\":\"menu-menu-secondary-menu\"}],\"options\":{\"classes\":\"mm-basic\",\"effects\":[],\"slidingSubmenus\":false,\"clickOpen\":{\"open\":false,\"selector\":\"\"},\"counters\":{\"add\":false,\"update\":false},\"dragOpen\":{\"open\":true,\"pageNode\":\"body\",\"threshold\":50,\"maxStartPos\":50},\"footer\":{\"add\":false,\"content\":\"\",\"title\":\"Copyright \\\\u00a92015\",\"update\":false},\"header\":{\"add\":false,\"content\":\"\",\"title\":\"templated7.pratt.duke.edu\",\"update\":true},\"labels\":{\"collapse\":false},\"offCanvas\":{\"enabled\":true,\"modal\":false,\"moveBackground\":true,\"position\":\"left\",\"zposition\":\"front\"},\"searchfield\":{\"add\":false,\"addTo\":\"menu\",\"search\":false,\"placeholder\":\"Search\",\"noResults\":\"No results found.\",\"showLinksOnly\":false}},\"configurations\":{\"clone\":false,\"preventTabbing\":false,\"panelNodetype\":\"div, ul, ol\",\"transitionDuration\":200,\"classNames\":{\"label\":\"Label\",\"panel\":\"Panel\",\"selected\":\"Selected\",\"buttonbars\":{\"buttonbar\":\"anchors\"},\"counters\":{\"counter\":\"Counter\"},\"fixedElements\":{\"fixedTop\":\"FixedTop\",\"fixedBottom\":\"FixedBottom\"},\"footer\":{\"panelFooter\":\"Footer\"},\"header\":{\"panelHeader\":\"Header\",\"panelNext\":\"Next\",\"panelPrev\":\"Prev\"},\"labels\":{\"collapsed\":\"Collapsed\"},\"toggles\":{\"toggle\":\"Toggle\",\"check\":\"Check\"}},\"dragOpen\":{\"width\":{\"perc\":0.8,\"min\":140,\"max\":440},\"height\":{\"perc\":0.8,\"min\":140,\"max\":880}},\"offCanvas\":{\"menuInjectMethod\":\"prepend\",\"menuWrapperSelector\":\"body\",\"pageNodetype\":\"div\",\"pageSelector\":\"body \\\\u003E div\"}},\"custom\":[],\"position\":\"left\"},\"mmenu_top\":{\"enabled\":\"1\",\"title\":\"Top menu\",\"name\":\"mmenu_top\",\"blocks\":[{\"module_delta\":\"block|11\",\"menu_parameters\":{\"min_depth\":\"1\"},\"title\":\"\\\\u003Cnone\\\\u003E\",\"collapsed\":\"0\",\"wrap\":\"1\",\"module\":\"block\",\"delta\":\"11\"}],\"options\":{\"classes\":\"mm-basic\",\"effects\":[],\"slidingSubmenus\":false,\"clickOpen\":{\"open\":true,\"selector\":\".mmenu-search\"},\"counters\":{\"add\":false,\"update\":false},\"dragOpen\":{\"open\":true,\"pageNode\":\"body\",\"threshold\":100,\"maxStartPos\":50},\"footer\":{\"add\":false,\"content\":\"\",\"title\":\"Copyright \\\\u00a92015\",\"update\":false},\"header\":{\"add\":false,\"content\":\"\",\"title\":\"D7 Template\",\"update\":false},\"labels\":{\"collapse\":false},\"offCanvas\":{\"enabled\":true,\"modal\":false,\"moveBackground\":false,\"position\":\"top\",\"zposition\":\"front\"},\"searchfield\":{\"add\":false,\"addTo\":\"menu\",\"search\":false,\"placeholder\":\"Search\",\"noResults\":\"No results found.\",\"showLinksOnly\":false}},\"configurations\":{\"clone\":false,\"preventTabbing\":false,\"panelNodetype\":\"div, ul, ol\",\"transitionDuration\":400,\"classNames\":{\"label\":\"Label\",\"panel\":\"Panel\",\"selected\":\"Selected\",\"buttonbars\":{\"buttonbar\":\"anchors\"},\"counters\":{\"counter\":\"Counter\"},\"fixedElements\":{\"fixedTop\":\"FixedTop\",\"fixedBottom\":\"FixedBottom\"},\"footer\":{\"panelFooter\":\"Footer\"},\"header\":{\"panelHeader\":\"Header\",\"panelNext\":\"Next\",\"panelPrev\":\"Prev\"},\"labels\":{\"collapsed\":\"Collapsed\"},\"toggles\":{\"toggle\":\"Toggle\",\"check\":\"Check\"}},\"dragOpen\":{\"width\":{\"perc\":0.8,\"min\":140,\"max\":440},\"height\":{\"perc\":0.3,\"min\":140,\"max\":880}},\"offCanvas\":{\"menuInjectMethod\":\"prepend\",\"menuWrapperSelector\":\"body\",\"pageNodetype\":\"div\",\"pageSelector\":\"body \\\\u003E div\"}},\"custom\":[],\"position\":\"top\"}},\"eu_cookie_compliance\":{\"popup_enabled\":1,\"popup_agreed_enabled\":0,\"popup_hide_agreed\":0,\"popup_clicking_confirmation\":1,\"popup_scrolling_confirmation\":0,\"popup_html_info\":\"\\\\u003Cdiv class=\\\\u0022eu-cookie-compliance-banner eu-cookie-compliance-banner-info eu-cookie-compliance-banner--default\\\\u0022\\\\u003E\\\\n  \\\\u003Cdiv class=\\\\u0022popup-content info\\\\u0022\\\\u003E\\\\n    \\\\u003Cdiv id=\\\\u0022popup-text\\\\u0022\\\\u003E\\\\n      \\\\u003Cp\\\\u003EThis website uses cookies as well as similar tools and technologies to understand visitors\\\\u0027 experiences. By continuing to use this website, you consent to Duke University\\\\u0027s usage of cookies and similar technologies, in accordance with the \\\\u003Ca href=\\\\u0022https:\\\\/\\\\/oarc.duke.edu\\\\/privacy\\\\/duke-university-privacy-statement\\\\u0022 target=\\\\u0022_blank\\\\u0022 class=\\\\u0022cc-link\\\\u0022 rel=\\\\u0022noopener noreferrer nofollow\\\\u0022\\\\u003EDuke Privacy Statement.\\\\u003C\\\\/a\\\\u003E\\\\u003C\\\\/p\\\\u003E\\\\n          \\\\u003C\\\\/div\\\\u003E\\\\n    \\\\n    \\\\u003Cdiv id=\\\\u0022popup-buttons\\\\u0022 class=\\\\u0022\\\\u0022\\\\u003E\\\\n      \\\\u003Cbutton type=\\\\u0022button\\\\u0022 class=\\\\u0022agree-button eu-cookie-compliance-default-button\\\\u0022\\\\u003EI accept\\\\u003C\\\\/button\\\\u003E\\\\n          \\\\u003C\\\\/div\\\\u003E\\\\n  \\\\u003C\\\\/div\\\\u003E\\\\n\\\\u003C\\\\/div\\\\u003E\",\"use_mobile_message\":false,\"mobile_popup_html_info\":\"\\\\u003Cdiv class=\\\\u0022eu-cookie-compliance-banner eu-cookie-compliance-banner-info eu-cookie-compliance-banner--default\\\\u0022\\\\u003E\\\\n  \\\\u003Cdiv class=\\\\u0022popup-content info\\\\u0022\\\\u003E\\\\n    \\\\u003Cdiv id=\\\\u0022popup-text\\\\u0022\\\\u003E\\\\n      \\\\u003Ch2\\\\u003EWe use cookies on this site to enhance your user experience\\\\u003C\\\\/h2\\\\u003E\\\\n\\\\u003Cp\\\\u003EBy tapping the Accept button, you agree to us doing so.\\\\u003C\\\\/p\\\\u003E\\\\n          \\\\u003C\\\\/div\\\\u003E\\\\n    \\\\n    \\\\u003Cdiv id=\\\\u0022popup-buttons\\\\u0022 class=\\\\u0022\\\\u0022\\\\u003E\\\\n      \\\\u003Cbutton type=\\\\u0022button\\\\u0022 class=\\\\u0022agree-button eu-cookie-compliance-default-button\\\\u0022\\\\u003EI accept\\\\u003C\\\\/button\\\\u003E\\\\n          \\\\u003C\\\\/div\\\\u003E\\\\n  \\\\u003C\\\\/div\\\\u003E\\\\n\\\\u003C\\\\/div\\\\u003E\\\\n\",\"mobile_breakpoint\":\"768\",\"popup_html_agreed\":\"\\\\u003Cdiv\\\\u003E\\\\n  \\\\u003Cdiv class=\\\\u0022popup-content agreed\\\\u0022\\\\u003E\\\\n    \\\\u003Cdiv id=\\\\u0022popup-text\\\\u0022\\\\u003E\\\\n      \\\\u003Ch2\\\\u003EThank you for accepting cookies\\\\u003C\\\\/h2\\\\u003E\\\\n\\\\u003Cp\\\\u003EYou can now hide this message or find out more about cookies.\\\\u003C\\\\/p\\\\u003E\\\\n    \\\\u003C\\\\/div\\\\u003E\\\\n    \\\\u003Cdiv id=\\\\u0022popup-buttons\\\\u0022\\\\u003E\\\\n      \\\\u003Cbutton type=\\\\u0022button\\\\u0022 class=\\\\u0022hide-popup-button eu-cookie-compliance-hide-button\\\\u0022\\\\u003EHide\\\\u003C\\\\/button\\\\u003E\\\\n          \\\\u003C\\\\/div\\\\u003E\\\\n  \\\\u003C\\\\/div\\\\u003E\\\\n\\\\u003C\\\\/div\\\\u003E\",\"popup_use_bare_css\":1,\"popup_height\":\"auto\",\"popup_width\":0,\"popup_delay\":1000,\"popup_link\":\"https:\\\\/\\\\/oarc.duke.edu\\\\/privacy\\\\/duke-university-privacy-statement\",\"popup_link_new_window\":1,\"popup_position\":null,\"fixed_top_position\":1,\"popup_language\":\"en\",\"store_consent\":false,\"better_support_for_screen_readers\":0,\"reload_page\":0,\"domain\":\"\",\"domain_all_sites\":0,\"popup_eu_only_js\":0,\"cookie_lifetime\":\"365\",\"cookie_session\":false,\"disagree_do_not_show_popup\":0,\"method\":\"default\",\"whitelisted_cookies\":\"\",\"withdraw_markup\":\"\\\\u003Cbutton type=\\\\u0022button\\\\u0022 class=\\\\u0022eu-cookie-withdraw-tab\\\\u0022\\\\u003EPrivacy settings\\\\u003C\\\\/button\\\\u003E\\\\n\\\\u003Cdiv class=\\\\u0022eu-cookie-withdraw-banner\\\\u0022\\\\u003E\\\\n  \\\\u003Cdiv class=\\\\u0022popup-content info\\\\u0022\\\\u003E\\\\n    \\\\u003Cdiv id=\\\\u0022popup-text\\\\u0022\\\\u003E\\\\n      \\\\u003Ch2\\\\u003EWe use cookies on this site to enhance your user experience\\\\u003C\\\\/h2\\\\u003E\\\\n\\\\u003Cp\\\\u003EYou have given your consent for us to set cookies.\\\\u003C\\\\/p\\\\u003E\\\\n    \\\\u003C\\\\/div\\\\u003E\\\\n    \\\\u003Cdiv id=\\\\u0022popup-buttons\\\\u0022\\\\u003E\\\\n      \\\\u003Cbutton type=\\\\u0022button\\\\u0022 class=\\\\u0022eu-cookie-withdraw-button\\\\u0022\\\\u003EWithdraw consent\\\\u003C\\\\/button\\\\u003E\\\\n    \\\\u003C\\\\/div\\\\u003E\\\\n  \\\\u003C\\\\/div\\\\u003E\\\\n\\\\u003C\\\\/div\\\\u003E\\\\n\",\"withdraw_enabled\":false,\"withdraw_button_on_info_popup\":0,\"cookie_categories\":[],\"enable_save_preferences_button\":1,\"fix_first_cookie_category\":1,\"select_all_categories_by_default\":0,\"cookie_name\":\"\"},\"urlIsAjaxTrusted\":{\"\\\\/\":true},\"superfish\":{\"1\":{\"id\":\"1\",\"sf\":{\"delay\":\"600\",\"animation\":{\"opacity\":\"show\"},\"speed\":\"fast\",\"dropShadows\":false},\"plugins\":{\"supposition\":true,\"supersubs\":true}}}});\\nif(jQuery.isFunction(jQuery.holdReady)){jQuery.holdReady(false);}} if(window.jQuery && window.Drupal){init_drupal_core_settings();}\\nfunction advagg_mod_3() {\\n// Count how many times this function is called.\\nadvagg_mod_3.count = ++advagg_mod_3.count || 1;\\ntry {\\nif (advagg_mod_3.count <= 40) {\\nvar eu_cookie_compliance_cookie_name = \"\";\\n// Set this to 100 so that this function only runs once.\\nadvagg_mod_3.count = 100;\\n}\\n}\\ncatch(e) {\\nif (advagg_mod_3.count >= 40) {\\n// Throw the exception if this still fails after running 40 times.\\nthrow e;\\n}\\nelse {\\n// Try again in 250 ms.\\nwindow.setTimeout(advagg_mod_3, 250);\\n}\\n}\\n}\\nfunction advagg_mod_3_check() {\\nif (window.jQuery && window.Drupal && window.Drupal.settings) {\\nadvagg_mod_3();\\n}\\nelse {\\nwindow.setTimeout(advagg_mod_3_check, 250);\\n}\\n}\\nadvagg_mod_3_check();'"
      ]
     },
     "execution_count": 32,
     "metadata": {},
     "output_type": "execute_result"
    }
   ],
   "source": [
    "extract_text_from(\"https://ai.meng.duke.edu/\")"
   ]
  },
  {
   "cell_type": "code",
   "execution_count": null,
   "metadata": {},
   "outputs": [],
   "source": []
  }
 ],
 "metadata": {
  "kernelspec": {
   "display_name": "rag_590",
   "language": "python",
   "name": "python3"
  },
  "language_info": {
   "codemirror_mode": {
    "name": "ipython",
    "version": 3
   },
   "file_extension": ".py",
   "mimetype": "text/x-python",
   "name": "python",
   "nbconvert_exporter": "python",
   "pygments_lexer": "ipython3",
   "version": "3.8.17"
  }
 },
 "nbformat": 4,
 "nbformat_minor": 2
}
